{
    "nbformat": 3, 
    "nbformat_minor": 0, 
    "worksheets": [
        {
            "cells": [
                {
                    "source": [
                        "<center>\n", 
                        " **REAL TIME SIGNAL VISUALIZATION:** <br><br> **STREAMING TO PLOTLY FROM MATLAB**\n", 
                        "</center>"
                    ], 
                    "cell_type": "heading", 
                    "metadata": {}, 
                    "level": 3
                }, 
                {
                    "source": [
                        "Hey Guys - Guess what! <a href=\"https://plot.ly\" class = \"nounderlineblack\">Plotly</a> has recently incorporated some **<font color = red>\\*NEW\\*</font>** streaming support into the Plotly <a href = \"https://plot.ly/matlab\" class=\"nounderlineblack\">MATLAB API library</a>! Now, for the first time ever, we are able to stream our MATLAB generated data and visualize it online in real time. These streams can be made public so that your data can be viewed and re-shared by your colleagues from all over the world! This notebook provides a quick overview of how it works. If you are new to Plotly, information regarding the MATLAB API library can be found online at the  <a href = \"https://plot.ly/matlab\" class=\"nounderlineblack\">Plotly's Documtation pages</a>. If you have any questions, comments, or just want to share one of your Plotly MATLAB API library streaming plots, we would <a href = \"#contacts\" class=\"nounderline\">love to hear from you</a>!  \n", 
                        "\n", 
                        "<hr size = 5>\n"
                    ], 
                    "cell_type": "markdown", 
                    "metadata": {}
                }, 
                {
                    "source": [
                        "MATLAB STREAM IN ACTION:"
                    ], 
                    "cell_type": "heading", 
                    "metadata": {}, 
                    "level": 3
                }, 
                {
                    "source": [
                        "Before we dive into how it all works, let's have a look at a MATLAB generated stream in action. A little <a href = \"http://en.wikipedia.org/wiki/Fast_Fourier_transform\" class=\"nounderlineblack\" >Fourier analysis</a> anyone?"
                    ], 
                    "cell_type": "markdown", 
                    "metadata": {}
                }, 
                {
                    "cell_type": "code", 
                    "language": "python", 
                    "outputs": [
                        {
                            "output_type": "pyout", 
                            "html": [
                                "<iframe height=\"600\" id=\"igraph\" frameborder = 0 seamless=\"seamless\" scrolling=\"no\" src=\"https://plot.ly/~matlab_user_guide/846/750/600\" width=\"750\"></iframe>"
                            ], 
                            "text": [
                                "<IPython.core.display.HTML at 0x10428f610>"
                            ], 
                            "prompt_number": 19, 
                            "metadata": {}
                        }
                    ], 
                    "collapsed": false, 
                    "prompt_number": 19, 
                    "input": [
                        "PLOTLY_FIGURE('https://plot.ly/~matlab_user_guide/846')"
                    ], 
                    "metadata": {}
                }, 
                {
                    "source": [
                        "<hr size = 5>\n", 
                        "<br>\n", 
                        "GETTING STREAMING (A BASIC EXAMPLE):"
                    ], 
                    "cell_type": "heading", 
                    "metadata": {}, 
                    "level": 3
                }, 
                {
                    "source": [
                        "<br>\n", 
                        "** <font size = 5>[0]: </font>** OPEN YOUR MATLAB ENVIRONMENT"
                    ], 
                    "cell_type": "heading", 
                    "metadata": {}, 
                    "level": 4
                }, 
                {
                    "cell_type": "code", 
                    "language": "python", 
                    "outputs": [
                        {
                            "output_type": "stream", 
                            "stream": "stdout", 
                            "text": [
                                "Starting MATLAB on ZMQ socket ipc:///tmp/pymatbridge\n", 
                                "Send 'exit' command to kill the server\n", 
                                "."
                            ]
                        }, 
                        {
                            "output_type": "stream", 
                            "stream": "stdout", 
                            "text": [
                                "."
                            ]
                        }, 
                        {
                            "output_type": "stream", 
                            "stream": "stdout", 
                            "text": [
                                "."
                            ]
                        }, 
                        {
                            "output_type": "stream", 
                            "stream": "stdout", 
                            "text": [
                                "."
                            ]
                        }, 
                        {
                            "output_type": "stream", 
                            "stream": "stdout", 
                            "text": [
                                "."
                            ]
                        }, 
                        {
                            "output_type": "stream", 
                            "stream": "stdout", 
                            "text": [
                                "."
                            ]
                        }, 
                        {
                            "output_type": "stream", 
                            "stream": "stdout", 
                            "text": [
                                "."
                            ]
                        }, 
                        {
                            "output_type": "stream", 
                            "stream": "stdout", 
                            "text": [
                                "."
                            ]
                        }, 
                        {
                            "output_type": "stream", 
                            "stream": "stdout", 
                            "text": [
                                "."
                            ]
                        }, 
                        {
                            "output_type": "stream", 
                            "stream": "stdout", 
                            "text": [
                                "."
                            ]
                        }, 
                        {
                            "output_type": "stream", 
                            "stream": "stdout", 
                            "text": [
                                "."
                            ]
                        }, 
                        {
                            "output_type": "stream", 
                            "stream": "stdout", 
                            "text": [
                                "."
                            ]
                        }, 
                        {
                            "output_type": "stream", 
                            "stream": "stdout", 
                            "text": [
                                "."
                            ]
                        }, 
                        {
                            "output_type": "stream", 
                            "stream": "stdout", 
                            "text": [
                                "."
                            ]
                        }, 
                        {
                            "output_type": "stream", 
                            "stream": "stdout", 
                            "text": [
                                "."
                            ]
                        }, 
                        {
                            "output_type": "stream", 
                            "stream": "stdout", 
                            "text": [
                                "."
                            ]
                        }, 
                        {
                            "output_type": "stream", 
                            "stream": "stdout", 
                            "text": [
                                "."
                            ]
                        }, 
                        {
                            "output_type": "stream", 
                            "stream": "stdout", 
                            "text": [
                                "MATLAB started and connected!\n"
                            ]
                        }
                    ], 
                    "collapsed": false, 
                    "prompt_number": 4, 
                    "input": [
                        "%load_ext pymatbridge"
                    ], 
                    "metadata": {}
                }, 
                {
                    "source": [
                        "<br>"
                    ], 
                    "cell_type": "markdown", 
                    "metadata": {}
                }, 
                {
                    "source": [
                        "** <font size = 5>[1]: </font>**Setup your Plotly MATLAB API Library. "
                    ], 
                    "cell_type": "heading", 
                    "metadata": {}, 
                    "level": 4
                }, 
                {
                    "cell_type": "code", 
                    "language": "python", 
                    "outputs": [], 
                    "collapsed": false, 
                    "prompt_number": 6, 
                    "input": [
                        "%%matlab \n", 
                        "\n", 
                        "%plotlysetup('username','api_key','stream_ids',{'stream_token1',...});"
                    ], 
                    "metadata": {}
                }, 
                {
                    "source": [
                        "Uncomment the above line and fill in your credentials. Your 'username', 'api_key' and 'stream_tokens' are initialized once you <a href = \"https://plot.ly\" class=\"nounderline\">MAKE A PLOTLY ACCOUNT</a>!\n", 
                        "\n", 
                        "<br>\n", 
                        "<br>"
                    ], 
                    "cell_type": "markdown", 
                    "metadata": {}
                }, 
                {
                    "source": [
                        "** <font size = 5>[2]: </font>** Create a Plotly plot with a unique stream token. "
                    ], 
                    "cell_type": "heading", 
                    "metadata": {}, 
                    "level": 4
                }, 
                {
                    "cell_type": "code", 
                    "language": "python", 
                    "outputs": [
                        {
                            "output_type": "display_data", 
                            "text": [
                                "\n", 
                                "URL_OF_PLOT =\n", 
                                "\n", 
                                "https://plot.ly/~matlab_user_guide/849\n", 
                                "\n"
                            ], 
                            "metadata": {}
                        }
                    ], 
                    "collapsed": false, 
                    "prompt_number": 7, 
                    "input": [
                        "%%matlab\n", 
                        "\n", 
                        "%----STORED STREAMING CREDENTIALS----%\n", 
                        "my_credentials = loadplotlycredentials; \n", 
                        "my_stream_token = my_credentials.stream_ids{end};\n", 
                        "\n", 
                        "%----SETUP-----%\n", 
                        "\n", 
                        "data{1}.x = []; \n", 
                        "data{1}.y = [];\n", 
                        "data{1}.type = 'scatter';\n", 
                        "data{1}.stream.token = my_stream_token; \n", 
                        "data{1}.stream.maxpoints = 30;  \n", 
                        "args.filename = 'MY_FIRST_STREAM'; \n", 
                        "args.fileopt = 'overwrite'; \n", 
                        "\n", 
                        "%----PLOTLY-----%\n", 
                        "\n", 
                        "resp = plotly(data,args); \n", 
                        "URL_OF_PLOT = resp.url"
                    ], 
                    "metadata": {}
                }, 
                {
                    "source": [
                        "<br>\n", 
                        "<br>"
                    ], 
                    "cell_type": "markdown", 
                    "metadata": {}
                }, 
                {
                    "source": [
                        "** <font size = 5>[3]: </font>** Initialize a plotlystream object. "
                    ], 
                    "cell_type": "heading", 
                    "metadata": {}, 
                    "level": 4
                }, 
                {
                    "cell_type": "code", 
                    "language": "python", 
                    "outputs": [], 
                    "collapsed": false, 
                    "prompt_number": 8, 
                    "input": [
                        "%%matlab \n", 
                        "\n", 
                        "ps = plotlystream(my_stream_token); "
                    ], 
                    "metadata": {}
                }, 
                {
                    "source": [
                        "\n", 
                        "<br>\n", 
                        "<br>\n"
                    ], 
                    "cell_type": "markdown", 
                    "metadata": {}
                }, 
                {
                    "source": [
                        "** <font size = 5>[4]: </font>** Stream your data using the plotlystream object methods. "
                    ], 
                    "cell_type": "heading", 
                    "metadata": {}, 
                    "level": 4
                }, 
                {
                    "cell_type": "code", 
                    "language": "python", 
                    "outputs": [
                        {
                            "output_type": "display_data", 
                            "text": [
                                "\n", 
                                "[Connection Successful]\n", 
                                "\n"
                            ], 
                            "metadata": {}
                        }
                    ], 
                    "collapsed": false, 
                    "prompt_number": 9, 
                    "input": [
                        "%%matlab \n", 
                        "\n", 
                        "%----open the stream----%\n", 
                        "\n", 
                        "ps.open(); \n", 
                        "\n", 
                        "%----write to the stream----%\n", 
                        "\n", 
                        "for i = 1:1000\n", 
                        "    mydata.x = i; \n", 
                        "    mydata.y = rand; \n", 
                        "    ps.write(mydata);\n", 
                        "    %take a breath \n", 
                        "    pause(0.05); \n", 
                        "end\n", 
                        "\n", 
                        "%----close the stream----% \n", 
                        "\n", 
                        "ps.close(); \n"
                    ], 
                    "metadata": {}
                }, 
                {
                    "source": [
                        "<br>\n", 
                        "<br>\n", 
                        "<center><font size = 6><a href=\"https://plot.ly/~matlab_user_guide/849\" class=\"nounderline\">**Click here to take a look at the basic example stream in action over at Plot.ly!**</a></font></center>"
                    ], 
                    "cell_type": "markdown", 
                    "metadata": {}
                }, 
                {
                    "source": [
                        "<br>\n", 
                        "\n", 
                        "<hr size = 5>\n", 
                        "<br>\n", 
                        "STREAMING SIGNAL ANALYSIS (FROM ABOVE):"
                    ], 
                    "cell_type": "heading", 
                    "metadata": {}, 
                    "level": 3
                }, 
                {
                    "source": [
                        "The following code is used to generate the Fourier analysis streaming plot from the above example. Feel free to copy the code and modify it in any way! Again, we would love to hear from you with links to the streams you create. \n", 
                        "<br>"
                    ], 
                    "cell_type": "markdown", 
                    "metadata": {}
                }, 
                {
                    "cell_type": "code", 
                    "language": "python", 
                    "outputs": [], 
                    "collapsed": false, 
                    "prompt_number": 10, 
                    "input": [
                        "%%capture \n", 
                        "%%matlab \n", 
                        "\n", 
                        "%----plotly setup----%\n", 
                        "\n", 
                        "%max streaming points\n", 
                        "maxpoints = 32;\n", 
                        "\n", 
                        "%credientials \n", 
                        "my_credentials = loadplotlycredentials; \n", 
                        "\n", 
                        "%signal1 (time domain)\n", 
                        "data{1}.type = 'scatter';\n", 
                        "data{1}.mode = 'lines+markers';\n", 
                        "data{1}.x = [];\n", 
                        "data{1}.y = [];\n", 
                        "data{1}.line.width = 5;\n", 
                        "data{1}.line.shape = 'spline';\n", 
                        "data{1}.line.color = 'rgba(100,20,250,0.5)';\n", 
                        "data{1}.marker.symbol = 'circle';\n", 
                        "data{1}.marker.size = 10;\n", 
                        "data{1}.marker.line.width = 2;\n", 
                        "data{1}.stream.token = my_credentials.stream_ids{end-4};\n", 
                        "data{1}.stream.maxpoints = maxpoints;\n", 
                        "data{1}.autorange = true;\n", 
                        "data{1}.name = '$s_1$';\n", 
                        "data{1}.xaxis = 'x1';\n", 
                        "data{1}.yaxis = 'y1';\n", 
                        "\n", 
                        "%signal2 (time domain)\n", 
                        "data{2}.type = 'scatter';\n", 
                        "data{2}.mode = 'lines+markers';\n", 
                        "data{2}.line.width = 5;\n", 
                        "data{2}.line.color = 'rgba(0,200,200,0.5)';\n", 
                        "data{2}.line.shape = 'spline';\n", 
                        "data{2}.marker.symbol = 'circle';\n", 
                        "data{2}.marker.size = 10;\n", 
                        "data{2}.marker.line.width = 2;\n", 
                        "data{2}.x = [];\n", 
                        "data{2}.y = [];\n", 
                        "data{2}.stream.token = my_credentials.stream_ids{end-3};\n", 
                        "data{2}.stream.maxpoints = maxpoints;\n", 
                        "data{2}.name = '$s_2$';\n", 
                        "data{2}.xaxis = 'x1';\n", 
                        "data{2}.yaxis = 'y1';\n", 
                        "\n", 
                        "%signal1 (frequency domain)\n", 
                        "data{3}.type = 'scatter';\n", 
                        "data{3}.mode = 'lines';\n", 
                        "data{3}.x = [];\n", 
                        "data{3}.y = [];\n", 
                        "data{3}.stream.token = my_credentials.stream_ids{end-2};\n", 
                        "data{3}.line.color = 'rgba(0,0,0,1)';\n", 
                        "data{3}.line.width = 3;\n", 
                        "data{3}.name = '$|FFT(s_1)|$';\n", 
                        "data{3}.fill = 'tozeroy';\n", 
                        "data{3}.fillcolor =  'rgba(100,20,250,0.5)';\n", 
                        "data{3}.xaxis = 'x2';\n", 
                        "data{3}.yaxis = 'y2';\n", 
                        "\n", 
                        "%signal2 (frequency domain)\n", 
                        "data{4}.type = 'scatter';\n", 
                        "data{4}.mode = 'lines';\n", 
                        "data{4}.x = [];\n", 
                        "data{4}.y = [];\n", 
                        "data{4}.stream.token = my_credentials.stream_ids{end-1};\n", 
                        "data{4}.line.color = 'rgba(0,0,0,1)';\n", 
                        "data{4}.line.width = 3;\n", 
                        "data{4}.fillcolor = 'rgba(0,200,200,0.5)';\n", 
                        "data{4}.fill = 'tozeroy';\n", 
                        "data{4}.name = '$|FFT(s_2)|$';\n", 
                        "data{4}.xaxis = 'x2';\n", 
                        "data{4}.yaxis = 'y2';\n", 
                        "\n", 
                        "%---layout and plot options---%\n", 
                        "args.layout.title = 'REAL TIME SIGNAL ANALYSIS';\n", 
                        "args.layout.xaxis1.title = 'Time [s.]';\n", 
                        "args.layout.xaxis1.showgrid = true;\n", 
                        "args.layout.xaxis1.showline = false; \n", 
                        "args.layout.xaxis1.mirror = false;\n", 
                        "args.layout.xaxis1.anchor = 'y1';\n", 
                        "args.layout.yaxis1.title = 'Amplitude';\n", 
                        "args.layout.yaxis1.anchor = 'x1';\n", 
                        "args.layout.yaxis1.range = [-7 7];\n", 
                        "args.layout.yaxis1.nticks = 10;\n", 
                        "args.layout.yaxis1.showline = true;\n", 
                        "args.layout.yaxis1.mirror = false;\n", 
                        "args.layout.yaxis1.zeroline = true;\n", 
                        "args.layout.yaxis1.zerolinewidth = 2;\n", 
                        "args.layout.yaxis1.showgrid = true;\n", 
                        "args.layout.yaxis1.domain = [0.6 1];\n", 
                        "\n", 
                        "args.layout.yaxis2.title = 'Magnitude';\n", 
                        "args.layout.xaxis2.title = 'Frequency [Hz.]';\n", 
                        "args.layout.xaxis2.showline = true;\n", 
                        "args.layout.xaxis2.zeroline = false;\n", 
                        "args.layout.xaxis2.mirror = false;\n", 
                        "args.layout.xaxis2.nticks = 20;\n", 
                        "args.layout.xaxis2.anchor = 'y2';\n", 
                        "args.layout.xaxis2.linewidth = 2;\n", 
                        "args.layout.yaxis2.showline = true;\n", 
                        "args.layout.yaxis2.linewidth = 2;\n", 
                        "args.layout.yaxis2.mirror = false;\n", 
                        "args.layout.yaxis2.nticks = 10;\n", 
                        "args.layout.yaxis2.zeroline = false;\n", 
                        "args.layout.yaxis2.domain = [0 0.4];\n", 
                        "args.layout.yaxis2.anchor = 'x2';\n", 
                        "args.layout.yaxis2.range = [0 100];\n", 
                        "\n", 
                        "args.filename = 'stream_example_fourier';\n", 
                        "args.fileopt = 'overwrite';\n", 
                        "resp = plotly(data,args);\n", 
                        "resp.url \n", 
                        "\n", 
                        "\n", 
                        "%----SIGNAL GENERATION---%\n", 
                        "\n", 
                        "%Sampling frequency\n", 
                        "SR = 20;\n", 
                        "\n", 
                        "%N (length of fft)\n", 
                        "N = 128;\n", 
                        "\n", 
                        "%Duration\n", 
                        "dur = 50*SR;\n", 
                        "\n", 
                        "%Amplitude vector\n", 
                        "A = [1 2 3 4 5];\n", 
                        "\n", 
                        "src1 = [ A(1)*sin(2*pi*1*(0*dur/5 + 1:1*dur/5)/SR)' ,...\n", 
                        "           ; A(2)*sin(2*pi*2*(1*dur/5 + 1:2*dur/5)/SR)',...\n", 
                        "           ; A(3)*sin(2*pi*3*(2*dur/5 + 1:3*dur/5)/SR)',...\n", 
                        "           ; A(4)*sin(2*pi*4*(3*dur/5 + 1:4*dur/5)/SR)',....\n", 
                        "           ; A(5)*sin(2*pi*5*(4*dur/5 + 1:5*dur/5)/SR)'];\n", 
                        "       \n", 
                        "src2 = [ A(5)*sin(2*pi*5*(0*dur/5 + 1:1*dur/5)/SR)',...\n", 
                        "           ; A(4)*sin(2*pi*4*(1*dur/5 + 1:2*dur/5)/SR)',...\n", 
                        "           ; A(3)*sin(2*pi*3*(2*dur/5 + 1:3*dur/5)/SR)',....\n", 
                        "           ; A(2)*sin(2*pi*2*(3*dur/5 + 1:4*dur/5)/SR)',....\n", 
                        "           ; A(1)*sin(2*pi*1*(4*dur/5 + 1:5*dur/5)/SR)'];\n", 
                        "\n", 
                        "%frequency vector\n", 
                        "freq = (0:N/2)*SR/(N);\n", 
                        "\n", 
                        "%length of stream\n", 
                        "los = length(src1);\n", 
                        "\n", 
                        "%create plotlystream objects\n", 
                        "sigstream_time1 = plotlystream(data{1}.stream.token);\n", 
                        "sigstream_time2 = plotlystream(data{2}.stream.token);\n", 
                        "sigstream_freq1 = plotlystream(data{3}.stream.token);\n", 
                        "sigstream_freq2 = plotlystream(data{4}.stream.token);\n", 
                        "\n", 
                        "%open the streams\n", 
                        "sigstream_time1.open;\n", 
                        "sigstream_time2.open;\n", 
                        "sigstream_freq1.open;\n", 
                        "sigstream_freq2.open;\n", 
                        "\n", 
                        "s = maxpoints;\n", 
                        "i = 0; \n", 
                        "\n", 
                        "while true \n", 
                        "    i = i + 1; \n", 
                        "    s = mod(i,los)+1; \n", 
                        "    \n", 
                        "    %stream data of signal 1 (time)\n", 
                        "    datast1t.x = i/SR;\n", 
                        "    datast1t.y = src1(s);\n", 
                        "    \n", 
                        "    %stream data of signal 2 (time)\n", 
                        "    datast2t.x = i/SR;\n", 
                        "    datast2t.y = src2(s);\n", 
                        "    \n", 
                        "    %stream data of signal 1 (freq)\n", 
                        "    datast1f.x = freq;\n", 
                        "    F = abs(fft(src1(mod(i-data{1}.stream.maxpoints:(i-1),los)+1),N));\n", 
                        "    datast1f.y = F(1:length(freq));\n", 
                        "    \n", 
                        "    %stream data of signal 2 (freq)\n", 
                        "    datast2f.x = freq;\n", 
                        "    F = abs(fft(src2(mod(i-data{1}.stream.maxpoints:(i-1),los)+1),N));\n", 
                        "    datast2f.y = F(1:length(freq));\n", 
                        "    \n", 
                        "    %write stream data\n", 
                        "    sigstream_time1.write(datast1t);\n", 
                        "    sigstream_time2.write(datast2t);\n", 
                        "    sigstream_freq1.write(datast1f);\n", 
                        "    sigstream_freq2.write(datast2f);\n", 
                        "    \n", 
                        "    %take a breath\n", 
                        "       pause(0.05);\n", 
                        "   \n", 
                        "end\n", 
                        "\n", 
                        "%close the streams before they cross! (a la Ghostbusters)\n", 
                        "\n", 
                        "sigstream_time1.close;\n", 
                        "sigstream_time2.close;\n", 
                        "sigstream_freq1.close;\n", 
                        "sigstream_freq2.close;"
                    ], 
                    "metadata": {}
                }, 
                {
                    "source": [
                        "<span id =\"contacts\">CONTACT</span>"
                    ], 
                    "cell_type": "heading", 
                    "metadata": {}, 
                    "level": 1
                }, 
                {
                    "source": [
                        "Want to help improve this notebook? Please send us your comments/questions! Feedback concerning this notebook can be directed to <font color=#1d3b84>** chuck@plot.ly **"
                    ], 
                    "cell_type": "markdown", 
                    "metadata": {}
                }, 
                {
                    "source": [
                        "EMBED PLOTLY FIGURES IN YOUR NB"
                    ], 
                    "cell_type": "heading", 
                    "metadata": {}, 
                    "level": 5
                }, 
                {
                    "cell_type": "code", 
                    "language": "python", 
                    "outputs": [], 
                    "collapsed": false, 
                    "prompt_number": 18, 
                    "input": [
                        "from IPython.display import HTML\n", 
                        "\n", 
                        "def PLOTLY_FIGURE(url, width=750, height=600):\n", 
                        "    s = '<iframe height=\"%s\" id=\"igraph\" frameborder = 0 seamless=\"seamless\" scrolling=\"no\" src=\"%s\" width=\"%s\"></iframe>' %\\\n", 
                        "    (height, \"/\".join(map(str,[url, width, height])), width)\n", 
                        "    return HTML(s)"
                    ], 
                    "metadata": {}
                }, 
                {
                    "cell_type": "code", 
                    "language": "python", 
                    "outputs": [
                        {
                            "output_type": "display_data", 
                            "html": [
                                "<style>\n", 
                                "    div.cell{\n", 
                                "        width: 850px;\n", 
                                "        margin-left: 10% !important;\n", 
                                "        margin-right: auto;\n", 
                                "    }\n", 
                                "    h1 {\n", 
                                "        font-family: \"Open sans\",verdana,arial,sans-serif;\n", 
                                "    }\n", 
                                "    .text_cell_render h1 {\n", 
                                "        font-weight: 200;\n", 
                                "        font-size: 40pt;\n", 
                                "        line-height: 100%;\n", 
                                "        color:#447adb;\n", 
                                "        margin-bottom: 0em;\n", 
                                "        margin-top: 0em;\n", 
                                "        display: block;\n", 
                                "        white-space: nowrap;\n", 
                                "    } \n", 
                                "    h2 {\n", 
                                "        font-family: \"Open sans\",verdana,arial,sans-serif;\n", 
                                "        text-indent:1em;\n", 
                                "    }\n", 
                                "    .text_cell_render h2 {\n", 
                                "        font-weight: 200;\n", 
                                "        font-size: 20pt;\n", 
                                "        font-style: italic;\n", 
                                "        line-height: 100%;\n", 
                                "        color:#447adb;\n", 
                                "        margin-bottom: 1.5em;\n", 
                                "        margin-top: 0.5em;\n", 
                                "        display: block;\n", 
                                "        white-space: nowrap;\n", 
                                "    } \n", 
                                "    h3 {\n", 
                                "        font-family: \"Open sans\",verdana,arial,sans-serif;\n", 
                                "    }\n", 
                                "    .text_cell_render h3 {\n", 
                                "        font-weight: 300;\n", 
                                "        font-size: 18pt;\n", 
                                "        line-height: 100%;\n", 
                                "        color:#447adb;\n", 
                                "        margin-bottom: 0.5em;\n", 
                                "        margin-top: 2em;\n", 
                                "        display: block;\n", 
                                "        white-space: nowrap;\n", 
                                "    }\n", 
                                "    h4 {\n", 
                                "        font-family: \"Open sans\",verdana,arial,sans-serif;\n", 
                                "    }\n", 
                                "    .text_cell_render h4 {\n", 
                                "        font-weight: 300;\n", 
                                "        font-size: 16pt;\n", 
                                "        color:#447adb;\n", 
                                "        margin-bottom: 0.5em;\n", 
                                "        margin-top: 0.5em;\n", 
                                "        display: block;\n", 
                                "        white-space: nowrap;\n", 
                                "    }\n", 
                                "    h5 {\n", 
                                "        font-family: \"Open sans\",verdana,arial,sans-serif;\n", 
                                "    }\n", 
                                "    .text_cell_render h5 {\n", 
                                "        font-weight: 300;\n", 
                                "        font-style: normal;\n", 
                                "        color: #1d3b84;\n", 
                                "        font-size: 16pt;\n", 
                                "        margin-bottom: 0em;\n", 
                                "        margin-top: 1.5em;\n", 
                                "        display: block;\n", 
                                "        white-space: nowrap;\n", 
                                "    }\n", 
                                "    div.text_cell_render{\n", 
                                "        font-family: \"Open sans\",verdana,arial,sans-serif;\n", 
                                "        line-height: 135%;\n", 
                                "        font-size: 125%;\n", 
                                "        width:750px;\n", 
                                "        margin-left:auto;\n", 
                                "        margin-right:auto;\n", 
                                "        text-align:justify;\n", 
                                "        text-justify:inter-word;\n", 
                                "    }\n", 
                                "    div.output_subarea.output_text.output_pyout {\n", 
                                "        overflow-x: auto;\n", 
                                "        overflow-y: scroll;\n", 
                                "        max-height: 300px;\n", 
                                "    }\n", 
                                "    div.output_subarea.output_stream.output_stdout.output_text {\n", 
                                "        overflow-x: auto;\n", 
                                "        overflow-y: scroll;\n", 
                                "        max-height: 300px;\n", 
                                "    }\n", 
                                "    div.output_subarea.output_html.rendered_html {\n", 
                                "        overflow-x: scroll;\n", 
                                "        max-width: 100%;\n", 
                                "      /*  overflow-y: scroll; */\n", 
                                "      /*  max-height: 300px;   */\n", 
                                "    }\n", 
                                "    code{\n", 
                                "      font-size: 78%;\n", 
                                "    }\n", 
                                "    .rendered_html code{\n", 
                                "        background-color: transparent;\n", 
                                "        white-space: inherit;   \n", 
                                "    }\n", 
                                "    ul{\n", 
                                "        /* color:#447adb; */  \n", 
                                "        margin: 2em;\n", 
                                "    }\n", 
                                "    ul li{\n", 
                                "        padding-left: 0.5em; \n", 
                                "        margin-bottom: 0.5em; \n", 
                                "        margin-top: 0.5em; \n", 
                                "    }\n", 
                                "    ul li li{\n", 
                                "        padding-left: 0.2em; \n", 
                                "        margin-bottom: 0.2em; \n", 
                                "        margin-top: 0.2em; \n", 
                                "    }\n", 
                                "    ol{\n", 
                                "        /* color:#447adb; */  \n", 
                                "        margin: 2em;\n", 
                                "    }\n", 
                                "    ol li{\n", 
                                "        padding-left: 0.5em; \n", 
                                "        margin-bottom: 0.5em; \n", 
                                "        margin-top: 0.5em; \n", 
                                "    }\n", 
                                "    /*.prompt{\n", 
                                "        display: None;\n", 
                                "    } */\n", 
                                "    ul li{\n", 
                                "        padding-left: 0.5em; \n", 
                                "        margin-bottom: 0.5em; \n", 
                                "        margin-top: 0.2em; \n", 
                                "    }\n", 
                                "    a:link{\n", 
                                "       font-weight: bold;\n", 
                                "       color:#447adb;\n", 
                                "    }\n", 
                                "    a:visited{\n", 
                                "       font-weight: bold;\n", 
                                "       color: #1d3b84;\n", 
                                "    }\n", 
                                "    a:hover{\n", 
                                "       font-weight: bold;\n", 
                                "       color: #1d3b84;\n", 
                                "    }\n", 
                                "    a:focus{\n", 
                                "       font-weight: bold;\n", 
                                "       color:#447adb;\n", 
                                "    }\n", 
                                "    a:active{\n", 
                                "       font-weight: bold;\n", 
                                "       color:#447adb;\n", 
                                "    }\n", 
                                "    .rendered_html :link {\n", 
                                "       text-decoration: none; \n", 
                                "    }\n", 
                                "    .rendered_html :hover {\n", 
                                "       text-decoration: none; \n", 
                                "    }\n", 
                                "    .rendered_html :visited {\n", 
                                "      text-decoration: none;\n", 
                                "    }\n", 
                                "    .rendered_html :focus {\n", 
                                "      text-decoration: none;\n", 
                                "    }\n", 
                                "    .rendered_html :active {\n", 
                                "      text-decoration: none;\n", 
                                "    }\n", 
                                "    .warning{\n", 
                                "        color: rgb( 240, 20, 20 )\n", 
                                "    } \n", 
                                "    hr {\n", 
                                "      color: #f3f3f3;\n", 
                                "      background-color: #f3f3f3;\n", 
                                "      height: 1px;\n", 
                                "    }\n", 
                                "    blockquote{\n", 
                                "      display:block;\n", 
                                "      background: #f3f3f3;\n", 
                                "      font-family: \"Open sans\",verdana,arial,sans-serif;\n", 
                                "      width:610px;\n", 
                                "      padding: 15px 15px 15px 15px;\n", 
                                "      text-align:justify;\n", 
                                "      text-justify:inter-word;\n", 
                                "      }\n", 
                                "      blockquote p {\n", 
                                "        margin-bottom: 0;\n", 
                                "        line-height: 125%;\n", 
                                "        font-size: 100%;\n", 
                                "        text-align: center;\n", 
                                "      }\n", 
                                "   /* element.style {\n", 
                                "    } */  \n", 
                                "</style>\n", 
                                "<script>\n", 
                                "    MathJax.Hub.Config({\n", 
                                "                        TeX: {\n", 
                                "                           extensions: [\"AMSmath.js\"]\n", 
                                "                           },\n", 
                                "                tex2jax: {\n", 
                                "                    inlineMath: [ [\"$\",\"$\"], [\"\\\\(\",\"\\\\)\"] ],\n", 
                                "                    displayMath: [ [\"$$\",\"$$\"], [\"\\\\[\",\"\\\\]\"] ]\n", 
                                "                },\n", 
                                "                displayAlign: \"center\", // Change this to \"center\" to center equations.\n", 
                                "                \"HTML-CSS\": {\n", 
                                "                    styles: {\".MathJax_Display\": {\"margin\": 4}}\n", 
                                "                }\n", 
                                "        });\n", 
                                "</script>"
                            ], 
                            "text": [
                                "<IPython.core.display.HTML at 0x10428f890>"
                            ], 
                            "metadata": {}
                        }
                    ], 
                    "collapsed": false, 
                    "prompt_number": 3, 
                    "input": [
                        "# CSS styling within IPython notebook\n", 
                        "from IPython.display import display, HTML\n", 
                        "display(HTML(open('./css/custom.css').read()))"
                    ], 
                    "metadata": {}
                }, 
                {
                    "source": [
                        "<center><sup><a href = \"http://camdavidsonpilon.github.io/Probabilistic-Programming-and-Bayesian-Methods-for-Hackers/\" class=\"nounderlineblack\">STYLE INSPIRED BY CAM DAVIDSON'S NB'S - THANK YOU</a></sup></center>"
                    ], 
                    "cell_type": "markdown", 
                    "metadata": {}
                }
            ], 
            "metadata": {}
        }
    ], 
    "metadata": {
        "name": "", 
        "signature": "sha256:25307bc16b68be441e2de1ab590dff5bca3d2fe87ba93ad7259a779c866e7859"
    }
}