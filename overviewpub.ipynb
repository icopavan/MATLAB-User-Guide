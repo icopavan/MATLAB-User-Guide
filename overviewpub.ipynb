{
 "metadata": {
  "name": "",
  "signature": "sha256:35be6d090c9df734702046cf838e8b7791c5d7c9e47694ab6c0408031c4c9dd7"
 },
 "nbformat": 3,
 "nbformat_minor": 0,
 "worksheets": [
  {
   "cells": [
    {
     "cell_type": "heading",
     "level": 1,
     "metadata": {},
     "source": [
      "Plotly for MATLAB - User Guide "
     ]
    },
    {
     "cell_type": "markdown",
     "metadata": {},
     "source": [
      ">WELCOME! This Notebook is designed to demonstrate the use of Plotly's MATLAB API and to showcase three **<font color = red>\\*NEW\\*</font>** API functions. \n",
      "\n",
      "<center>\n",
      ">><a href =\"#f2p\" class=\"nounderlineblack\">fig2plotly.m</a> &nbsp; &nbsp; **  \u2022   ** &nbsp;&nbsp;\n",
      ">><a href=\"#gpf\" class=\"nounderlineblack\">getplotlyfig.m</a> &nbsp; &nbsp; **  \u2022   ** &nbsp;&nbsp;\n",
      ">><a href=\"#spf\" class=\"nounderlineblack\">saveplotlyfig.m</a>\n",
      "</center>"
     ]
    },
    {
     "cell_type": "heading",
     "level": 3,
     "metadata": {},
     "source": [
      "New to Plotly?"
     ]
    },
    {
     "cell_type": "markdown",
     "metadata": {},
     "source": [
      "**Plotly** is a browser-based **data analysis and visualization tool** that lets you and your team **make** and **share** beautiful, **interactive** graphs, **3D** graphs, and **streaming** graphs using MATLAB, Python, IPython, matplotlib, R, ggplot2, and Excel. \n",
      "\n",
      "This API allows MATLAB users to generate Plotly graphs from the desktop MATLAB environment: turning MATLAB figures into **interactive, shareable, collaborative** projects."
     ]
    },
    {
     "cell_type": "heading",
     "level": 3,
     "metadata": {},
     "source": [
      "Plotly MATLAB API Workflow:"
     ]
    },
    {
     "cell_type": "markdown",
     "metadata": {},
     "source": [
      "- Collect or generate some data in your MATLAB environment\n",
      "- Send data to your Plotly account through this Plotly MATLAB API\n",
      "- View interactive graph in your browser\n",
      "- Style graph in the Plotly GUI\n",
      "- Share graph by URL shortlinks, Facebook, or Twitter\n",
      "- Export to PNG, PDF, EPS, SVG\n",
      "\n",
      "- <font color=red>**\\*NEW\\***</font> Plot your MATLAB figure objects with Plotly using **fig2plotly.m**\n",
      "- <font color=red>**\\*NEW\\***</font> Get data, style, and layout from the plots stored online  **getplotlyfig.m**\n",
      "- <font color=red>**\\*NEW\\***</font> Save your Plotly figures as an image in MATLAB using **saveplotlyfig.m**\n",
      "<br>\n",
      "<br>"
     ]
    },
    {
     "cell_type": "heading",
     "level": 3,
     "metadata": {},
     "source": [
      "Initial Setup:"
     ]
    },
    {
     "cell_type": "markdown",
     "metadata": {},
     "source": [
      "The Plotly MATLAB API has been embedded into our MATLAB toolboxes and our Plotly credentials have been saved using **plotlysetup.m**. In order to start using the Plotly MATLAB API all we have to do now is start MATLAB!  More information regarding installation / setting up the Plotly MATLAB API can be found on the <a href = \"https://plot.ly/matlab/getting-started\" class = nounderline> online documentation</a>.\n",
      "\n",
      "**NOTE:** Throughout this notebook we will be using the super awesome <a href=\"https://pypi.python.org/pypi/pymatbridge/0.1/\" class=\"nounderline\">pymatbridge</a> package to communicate with MATLAB from Python. Everything that comes below the **%%matlab** decorator will now be read as MATLAB code. To use the MATLAB API on your own machine, simply open the MATLAB application as you normally would."
     ]
    },
    {
     "cell_type": "heading",
     "level": 5,
     "metadata": {},
     "source": [
      ">> OPEN YOUR MATLAB ENVIRONMENT!"
     ]
    },
    {
     "cell_type": "code",
     "collapsed": false,
     "input": [
      "%load_ext pymatbridge"
     ],
     "language": "python",
     "metadata": {},
     "outputs": [
      {
       "output_type": "stream",
       "stream": "stdout",
       "text": [
        "Starting MATLAB on ZMQ socket ipc:///tmp/pymatbridge\n",
        "Send 'exit' command to kill the server\n",
        "."
       ]
      },
      {
       "output_type": "stream",
       "stream": "stdout",
       "text": [
        "."
       ]
      },
      {
       "output_type": "stream",
       "stream": "stdout",
       "text": [
        "."
       ]
      },
      {
       "output_type": "stream",
       "stream": "stdout",
       "text": [
        "."
       ]
      },
      {
       "output_type": "stream",
       "stream": "stdout",
       "text": [
        "."
       ]
      },
      {
       "output_type": "stream",
       "stream": "stdout",
       "text": [
        "."
       ]
      },
      {
       "output_type": "stream",
       "stream": "stdout",
       "text": [
        "."
       ]
      },
      {
       "output_type": "stream",
       "stream": "stdout",
       "text": [
        "."
       ]
      },
      {
       "output_type": "stream",
       "stream": "stdout",
       "text": [
        "."
       ]
      },
      {
       "output_type": "stream",
       "stream": "stdout",
       "text": [
        "."
       ]
      },
      {
       "output_type": "stream",
       "stream": "stdout",
       "text": [
        "."
       ]
      },
      {
       "output_type": "stream",
       "stream": "stdout",
       "text": [
        "."
       ]
      },
      {
       "output_type": "stream",
       "stream": "stdout",
       "text": [
        "."
       ]
      },
      {
       "output_type": "stream",
       "stream": "stdout",
       "text": [
        "."
       ]
      },
      {
       "output_type": "stream",
       "stream": "stdout",
       "text": [
        "."
       ]
      },
      {
       "output_type": "stream",
       "stream": "stdout",
       "text": [
        "."
       ]
      },
      {
       "output_type": "stream",
       "stream": "stdout",
       "text": [
        "."
       ]
      },
      {
       "output_type": "stream",
       "stream": "stdout",
       "text": [
        "."
       ]
      },
      {
       "output_type": "stream",
       "stream": "stdout",
       "text": [
        "."
       ]
      },
      {
       "output_type": "stream",
       "stream": "stdout",
       "text": [
        "."
       ]
      },
      {
       "output_type": "stream",
       "stream": "stdout",
       "text": [
        "."
       ]
      },
      {
       "output_type": "stream",
       "stream": "stdout",
       "text": [
        "."
       ]
      },
      {
       "output_type": "stream",
       "stream": "stdout",
       "text": [
        "."
       ]
      },
      {
       "output_type": "stream",
       "stream": "stdout",
       "text": [
        "."
       ]
      },
      {
       "output_type": "stream",
       "stream": "stdout",
       "text": [
        "."
       ]
      },
      {
       "output_type": "stream",
       "stream": "stdout",
       "text": [
        "."
       ]
      },
      {
       "output_type": "stream",
       "stream": "stdout",
       "text": [
        "."
       ]
      },
      {
       "output_type": "stream",
       "stream": "stdout",
       "text": [
        "."
       ]
      },
      {
       "output_type": "stream",
       "stream": "stdout",
       "text": [
        "."
       ]
      },
      {
       "output_type": "stream",
       "stream": "stdout",
       "text": [
        "."
       ]
      },
      {
       "output_type": "stream",
       "stream": "stdout",
       "text": [
        "MATLAB started and connected!\n"
       ]
      }
     ],
     "prompt_number": 2
    },
    {
     "cell_type": "markdown",
     "metadata": {},
     "source": [
      "<br>\n",
      "<br>\n",
      "<center>\n",
      "<h1 id=f2p>fig2plotly.m</h1>\n",
      "</center>"
     ]
    },
    {
     "cell_type": "markdown",
     "metadata": {},
     "source": [
      "----\n",
      "<center>\n",
      "<h3>Plot a MATLAB figure object with Plotly</h3>\n",
      "</center>\n",
      "\n",
      "---"
     ]
    },
    {
     "cell_type": "markdown",
     "metadata": {},
     "source": [
      "**<font color = red>\\*NEW\\*</font>** to the Plotly MATLAB API is the **fig2plotly.m** function - the future of the MATLAB API. **fig2plotly.m** allows you to take your MATLAB generated figures and automatically create a Plotly plot, taking care of the conversion from the MATLAB figure object structure to Plotly syntax. \n",
      "\n",
      "<hr size =\"5px\">\n",
      "\n",
      "**[INPUT]:**\n",
      "\n",
      "resp = fig2plotly() \n",
      "\n",
      "resp = fig2plotly(f)\n",
      "\n",
      "resp = fig2plotly(gcf)\n",
      "\n",
      "resp = fig2plotly(f,'property',value, ... )\n",
      "\n",
      "resp = fig2plotly(gcf,'property',value, ... )\n",
      "\n",
      "<br>\n",
      "\n",
      "**[WHERE]:**\n",
      "\n",
      "gcf - root figure object handle [double]. \n",
      "\n",
      "f - root figure object [struct] >> f = get(gcf)  \n",
      "\n",
      "<br>\n",
      "\n",
      "**[PROPERTIES]:**\n",
      "\n",
      "'name' - name of the plot [string]['untitled']\n",
      "\n",
      "'strip' - use plotly default styling [boolean][0]\n",
      "\n",
      "'open' - opens a browser with plot result [boolean][1]\n",
      "\n",
      "<br>\n",
      " \n",
      "**[OUTPUT]:**\n",
      "\n",
      "resp - results info of the plot [struct]\n",
      "\n",
      "resp.[url,warning,message,filename,error]\n",
      "\n",
      "<hr size =\"5px\">\n",
      "\n",
      "If you are properly signed up / in, the **url** field of the structure array, **resp**, will contain the address (associated with your Plotly account) of your newly created Plotly plot. The **filename** field will return a string of your chosen file name, or 'untitled' by default. The **warning**, **message**, and **error** fields will contain a string if anything went wrong or if there are updates for the Plotly MATLAB API.  "
     ]
    },
    {
     "cell_type": "markdown",
     "metadata": {},
     "source": [
      "<br>"
     ]
    },
    {
     "cell_type": "heading",
     "level": 3,
     "metadata": {},
     "source": [
      "\n",
      "<p id=ex1>Example 1: fig2plotly.m</p>"
     ]
    },
    {
     "cell_type": "markdown",
     "metadata": {},
     "source": [
      "The best way to grasp the **fig2plotly.m** useage is to see it in action! For our first example, let's take a look at a plot featured in the Mathworks plot gallery. \n"
     ]
    },
    {
     "cell_type": "code",
     "collapsed": false,
     "input": [
      "%%matlab\n",
      "\n",
      "%%%%%%%%%%%%%%%%%%%%%%%%%%%%%%%%%%%%%%%%%%%%%%%%%%%%\n",
      "%            FROM MATLAB PLOT GALLERY              %\n",
      "%  http://www.mathworks.com/discovery/gallery.html %\n",
      "%%%%%%%%%%%%%%%%%%%%%%%%%%%%%%%%%%%%%%%%%%%%%%%%%%%%\n",
      "\n",
      "api_path = ('/Users/chuckbronson/Documents/PLOTLY/MATLAB_API_REPO/DEV/TEST_PLOTS');\n",
      "addpath(genpath(api_path));\n",
      "\n",
      "load fitdata x y yfit;\n",
      "fig = figure;\n",
      "scatter(x, y, 'k');\n",
      "line(x, yfit, 'color', 'k', 'linestyle', '-', 'linewidth', 2);\n",
      "line(x, yfit + 0.3, 'color', 'r', 'linestyle', '--', 'linewidth', 2);\n",
      "line(x, yfit - 0.3, 'color', 'r', 'linestyle', '--', 'linewidth', 2);\n",
      "legend('Data', 'Localized Regression', 'Confidence Intervals', 2);\n",
      "xlabel('X');\n",
      "ylabel('Noisy');\n",
      "\n",
      "%%%%%%%%%%%%%%%%%%%%%%%%%%%%%%%\n",
      "%            PLOTLY           %\n",
      "%%%%%%%%%%%%%%%%%%%%%%%%%%%%%%%\n",
      "\n",
      "resp = fig2plotly(fig,'name','matlab_overview_1'); % <---- ONE LINE OF PLOTLY CODE! "
     ],
     "language": "python",
     "metadata": {},
     "outputs": [
      {
       "metadata": {},
       "output_type": "display_data",
       "png": "[encoded data removed]"
      }
     ],
     "prompt_number": 72
    },
    {
     "cell_type": "markdown",
     "metadata": {},
     "source": [
      "The above plot is the ouptut from calling the **scatter.m** and **line.m** functions inherent in MATLAB. Using the **fig2plotly.m** function, we are able to extract the relevant data from the MATLAB figure object and throw the output over to our Plotly account! The returned response variable, **resp**, is a structure array which contains a **url** field with the address of our plot. \n"
     ]
    },
    {
     "cell_type": "code",
     "collapsed": false,
     "input": [
      "%%matlab \n",
      "resp.url "
     ],
     "language": "python",
     "metadata": {},
     "outputs": [
      {
       "metadata": {},
       "output_type": "display_data",
       "text": [
        "\n",
        "ans =\n",
        "\n",
        "https://plot.ly/~matlab_user_guide/661\n",
        "\n"
       ]
      }
     ],
     "prompt_number": 4
    },
    {
     "cell_type": "markdown",
     "metadata": {},
     "source": [
      "Let's have a look at the newly produced line and scatter plot in Plotly! "
     ]
    },
    {
     "cell_type": "markdown",
     "metadata": {},
     "source": [
      "**NOTE:** The following function can be used to embed your Plotly plots within your own NB."
     ]
    },
    {
     "cell_type": "code",
     "collapsed": false,
     "input": [
      "from IPython.display import HTML\n",
      "\n",
      "def show_plot(url, width=750, height=550):\n",
      "    s = '<iframe height=\"%s\" id=\"igraph\" scrolling=\"no\" frameborder = 0 seamless=\"seamless\" src=\"%s\" width=\"%s\"></iframe>' %\\\n",
      "    (height, \"/\".join(map(str,[url, width, height])), width)\n",
      "    return HTML(s)"
     ],
     "language": "python",
     "metadata": {},
     "outputs": [],
     "prompt_number": 13
    },
    {
     "cell_type": "code",
     "collapsed": false,
     "input": [
      "show_plot('https://plot.ly/~matlab_user_guide/661')"
     ],
     "language": "python",
     "metadata": {},
     "outputs": [
      {
       "html": [
        "<iframe height=\"550\" id=\"igraph\" scrolling=\"no\" frameborder = 0 seamless=\"seamless\" src=\"https://plot.ly/~matlab_user_guide/661/750/550\" width=\"750\"></iframe>"
       ],
       "metadata": {},
       "output_type": "pyout",
       "prompt_number": 14,
       "text": [
        "<IPython.core.display.HTML at 0x10eaf1bd0>"
       ]
      }
     ],
     "prompt_number": 14
    },
    {
     "cell_type": "markdown",
     "metadata": {},
     "source": [
      "Nice! We can see how the **fig2plotly.m** function is able to parse all the relevant information for the MATLAB figure object and generate an awesome looking plot, the data for which is now **stored** on the cloud! This means you'll never have to worry about where your data is saved on your computer and you can **share** your newly created plot by simply embedding the link within your website or throwing it over to Facebook or Twitter!\n",
      "\n",
      "Another great thing about Plotly is the **interactivity** of the graphs. Try scrolling over the newly created plot to view the labelled data. Holding shift while clicking and dragging allows you to pan. Click and drag to zoom and double click to revert back to the original view. \n",
      "\n",
      "We can also now take advantage of the interactive **web app!** You can view/edit all our newly created plots on your online account. By default **fig2plotly.m** will open your default browser and load your Plotly account to view the newly created plot. All the data associated with the plot has been conveniently stored in a spreadsheet that can be accessed by clicking on the the \"View data\" link on the right (image below). \n",
      "\n"
     ]
    },
    {
     "cell_type": "markdown",
     "metadata": {},
     "source": [
      "<center>\n",
      "<img src=\"https://raw.githubusercontent.com/plotly/MATLAB-User-Guide/master/images/workspace.png\" style=\"width: 850px; height: 500px; margin-left: auto; margin-right: auto;\" alt=\"\"  >\n",
      "</center> "
     ]
    },
    {
     "cell_type": "markdown",
     "metadata": {},
     "source": [
      "<br>\n",
      "By clicking on the \"Save & edit\" link on the left (image above), we are able to access the main web GUI. This will allow us to tweak and experiment with plotting layout and style without having to write lines upon lines of code. Below is a screen shot of the Plotly web app. \n",
      "<br>"
     ]
    },
    {
     "cell_type": "markdown",
     "metadata": {},
     "source": [
      "<center>\n",
      "<img src=\"https://raw.githubusercontent.com/plotly/MATLAB-User-Guide/master/images/webapp.png\" style=\"width: 850px; height: 500px; margin-left: auto;margin-right: auto\"; alt=\"\">\n",
      "</center> "
     ]
    },
    {
     "cell_type": "markdown",
     "metadata": {},
     "source": [
      "<br>\n",
      "There are also many style/layout themes to choose from and you can even save your own themes to apply to your graphs. Have a go at changing the syle and layout to suit your personal preferences. Here is one that we made:"
     ]
    },
    {
     "cell_type": "code",
     "collapsed": false,
     "input": [
      "show_plot('https://plot.ly/~matlab_user_guide/662')"
     ],
     "language": "python",
     "metadata": {},
     "outputs": [
      {
       "html": [
        "<iframe height=\"550\" id=\"igraph\" scrolling=\"no\" frameborder = 0 seamless=\"seamless\" src=\"https://plot.ly/~matlab_user_guide/662/750/550\" width=\"750\"></iframe>"
       ],
       "metadata": {},
       "output_type": "pyout",
       "prompt_number": 15,
       "text": [
        "<IPython.core.display.HTML at 0x10eaf1110>"
       ]
      }
     ],
     "prompt_number": 15
    },
    {
     "cell_type": "markdown",
     "metadata": {},
     "source": [
      "<br>\n"
     ]
    },
    {
     "cell_type": "markdown",
     "metadata": {},
     "source": [
      "Once you are finished you can quickly share by hitting \"Share\". This will open a \"Sharing settings\" window (image below) which will allow you to modify the plots privacy settings and add a collaborator to be able to edit the plot you have created!"
     ]
    },
    {
     "cell_type": "markdown",
     "metadata": {},
     "source": [
      "<center>\n",
      "<img src=\"https://raw.githubusercontent.com/plotly/MATLAB-User-Guide/master/images/savemodal.png\" style=\"width: 850px; height: 600px; margin-left: auto;margin-right: auto\"; alt=\"\">\n",
      "</center> "
     ]
    },
    {
     "cell_type": "markdown",
     "metadata": {},
     "source": [
      "<br>\n",
      "You can also click on the social media icons to quickly throw your plot over to Facebook or Twitter to share it with the world!"
     ]
    },
    {
     "cell_type": "heading",
     "level": 3,
     "metadata": {},
     "source": [
      "<br>\n",
      "<br>\n",
      "<br>\n",
      "Example 2: fig2plotly.m\n",
      " "
     ]
    },
    {
     "cell_type": "markdown",
     "metadata": {},
     "source": [
      "Lets have a look at how **fig2plotly.m** is able to handle more difficult plot layouts, such as multiple subplots of varying size."
     ]
    },
    {
     "cell_type": "code",
     "collapsed": false,
     "input": [
      "%%matlab \n",
      "\n",
      "%%%%%%%%%%%%%%%%%%%%%%%%%%%%%%%%%%%%%%%%%%%%%%%%%%%%\n",
      "%            FROM MATLAB PLOT GALLERY              %\n",
      "%  http://www.mathworks.com/discovery/gallery.html %\n",
      "%%%%%%%%%%%%%%%%%%%%%%%%%%%%%%%%%%%%%%%%%%%%%%%%%%%%\n",
      "\n",
      "fm = 20e3;\n",
      "fc = 100e3;\n",
      "tstep = 100e-9;\n",
      "tmax  = 200e-6;\n",
      "t = 0:tstep:tmax;\n",
      "xam = (1 + cos(2*pi*fm*t)).*cos(2*pi*fc*t);\n",
      "T = 1e-6;\n",
      "N = 200;\n",
      "nT = 0:T:N*T;\n",
      "xn = (1 + cos(2*pi*fm*nT)).*cos(2*pi*fc*nT);\n",
      "fig = figure;\n",
      "subplot(2, 2, [1 3]);\n",
      "plot(nT,xn);\n",
      "xlabel('t');\n",
      "ylabel('x[n]');\n",
      "title('Sampled Every T=1e-6 ');\n",
      "subplot(2, 2, 2);\n",
      "plot(t, xam);\n",
      "axis([0 200e-6 -2 2]);\n",
      "title('AM Modulated Signal');\n",
      "subplot(2, 2, 4);\n",
      "plot(nT, xn);\n",
      "title('Reconstruction at T=4e-6 ');\n",
      "\n",
      "%%%%%%%%%%%%%%%%%%%%%%%%%%%%%%%\n",
      "%           PLOTLY            %\n",
      "%%%%%%%%%%%%%%%%%%%%%%%%%%%%%%%\n",
      "\n",
      "resp = fig2plotly(fig,'strip',1,'name','matlab_overview_3'); "
     ],
     "language": "python",
     "metadata": {},
     "outputs": [
      {
       "metadata": {},
       "output_type": "display_data",
       "png": "[encoded data removed]"
      }
     ],
     "prompt_number": 59
    },
    {
     "cell_type": "markdown",
     "metadata": {},
     "source": [
      "Nice MATLAB! Now let's have a look at our newly generated Plotly plot. "
     ]
    },
    {
     "cell_type": "code",
     "collapsed": false,
     "input": [
      "show_plot('https://plot.ly/~matlab_user_guide/663')"
     ],
     "language": "python",
     "metadata": {},
     "outputs": [
      {
       "html": [
        "<iframe height=\"550\" id=\"igraph\" scrolling=\"no\" frameborder = 0 seamless=\"seamless\" src=\"https://plot.ly/~matlab_user_guide/663/750/550\" width=\"750\"></iframe>"
       ],
       "metadata": {},
       "output_type": "pyout",
       "prompt_number": 16,
       "text": [
        "<IPython.core.display.HTML at 0x10eaf1250>"
       ]
      }
     ],
     "prompt_number": 16
    },
    {
     "cell_type": "markdown",
     "metadata": {},
     "source": [
      "Cool! **fig2plotly.m** preserves the subplot layout structure. It also converts the x-axis labels using the concise SI prefix &mu; = 10<sup>-6</sup>. You might notice that the colours for the traces generated using **fig2plotly.m** did not stay blue like the original output from MATLAB. This is because we changed the \"strip\" property of **fig2plotly.m** from \"false\" (default) to \"true\". In doing so we told **fig2plotly.m** to change the style used in MATLAB to Plotly's beautiful default color schemes. "
     ]
    },
    {
     "cell_type": "heading",
     "level": 3,
     "metadata": {},
     "source": [
      "<br>\n",
      "Example 3A: fig2plotly.m"
     ]
    },
    {
     "cell_type": "markdown",
     "metadata": {},
     "source": [
      "Now let's have a look at some other chart types in MATLAB and apply **fig2plotly.m**. Let's experiment with bar charts with a double y axis.  "
     ]
    },
    {
     "cell_type": "code",
     "collapsed": false,
     "input": [
      "%%matlab \n",
      "\n",
      "%%%%%%%%%%%%%%%%%%%%%%%%%%%%%%%%%%%%%%%%%%%%%%%%%%%%\n",
      "%            FROM MATLAB PLOT GALLERY              %\n",
      "%  http://www.mathworks.com/discovery/gallery.html %\n",
      "%%%%%%%%%%%%%%%%%%%%%%%%%%%%%%%%%%%%%%%%%%%%%%%%%%%%\n",
      "\n",
      "TBdata = [1990 4889 16.4; 1991 5273 17.4; 1992 5382 17.4; 1993 5173 16.5;\n",
      "          1994 4860 15.4; 1995 4675 14.7; 1996 4313 13.5; 1997 4059 12.5;\n",
      "          1998 3855 11.7; 1999 3608 10.8; 2000 3297  9.7; 2001 3332  9.6;\n",
      "          2002 3169  9.0; 2003 3227  9.0; 2004 2989  8.2; 2005 2903  7.9;\n",
      "          2006 2779  7.4; 2007 2725  7.2];\n",
      "\n",
      "years = TBdata(:,1);\n",
      "cases = TBdata(:,2);\n",
      "rate  = TBdata(:,3);\n",
      "fig = figure;\n",
      "[ax, h1, h2] = plotyy(years, cases, years, rate, 'bar', 'plot');\n",
      "set(h1, 'FaceColor', [0.8, 0.8, 0.8]);\n",
      "set(h2, 'LineWidth', 2);\n",
      "title('Tuberculosis Cases: 1991-2007');\n",
      "xlabel('Years');\n",
      "set(get(ax(1), 'Ylabel'), 'String', 'Cases');\n",
      "set(get(ax(2), 'Ylabel'), 'String', 'Infection rate in cases per thousand');\n",
      "\n",
      "%%%%%%%%%%%%%%%%%%%%%%%%%%%%%%% \n",
      "%           PLOTLY            %\n",
      "%%%%%%%%%%%%%%%%%%%%%%%%%%%%%%%\n",
      "\n",
      "filename = 'matlab_overview_4';\n",
      "resp = fig2plotly(fig,'name',filename); "
     ],
     "language": "python",
     "metadata": {},
     "outputs": [
      {
       "metadata": {},
       "output_type": "display_data",
       "png": "[encoded data removed]"
      }
     ],
     "prompt_number": 37
    },
    {
     "cell_type": "markdown",
     "metadata": {},
     "source": [
      "The above plot is the ouptut we receive from calling the **plotyy.m** function inherent in MATLAB. Now, Let's grab that url from the **resp** structure aray and have a look at our newly genereted plot using **fig2plotly.m**.  \n"
     ]
    },
    {
     "cell_type": "code",
     "collapsed": false,
     "input": [
      "%%matlab \n",
      "\n",
      "resp.url"
     ],
     "language": "python",
     "metadata": {},
     "outputs": [
      {
       "metadata": {},
       "output_type": "display_data",
       "text": [
        "\n",
        "ans =\n",
        "\n",
        "https://plot.ly/~matlab_user_guide/664\n",
        "\n"
       ]
      }
     ],
     "prompt_number": 38
    },
    {
     "cell_type": "code",
     "collapsed": false,
     "input": [
      "show_plot('https://plot.ly/~matlab_user_guide/664')"
     ],
     "language": "python",
     "metadata": {},
     "outputs": [
      {
       "html": [
        "<iframe height=\"550\" id=\"igraph\" scrolling=\"no\" frameborder = 0 seamless=\"seamless\" src=\"https://plot.ly/~matlab_user_guide/664/750/550\" width=\"750\"></iframe>"
       ],
       "metadata": {},
       "output_type": "pyout",
       "prompt_number": 17,
       "text": [
        "<IPython.core.display.HTML at 0x10eaf1a50>"
       ]
      }
     ],
     "prompt_number": 17
    },
    {
     "cell_type": "markdown",
     "metadata": {},
     "source": [
      "Sweet! Now we can use the Plotly web app to customize style an layout to our personal preference.  \n",
      "<br>"
     ]
    },
    {
     "cell_type": "markdown",
     "metadata": {},
     "source": [
      "<font size = \"5\">Alternatively...</font> we can use the Plotly declaritive syntax to edit the style and layout with **plotly.m**, one of the original API functions. To do this, we will need to use another **<font color = red>\\*NEW\\*</font>** function that simplifies everything: **getplotlyfig.m**.\n",
      "<br>\n",
      "<br>\n",
      "<br>\n",
      "<br>"
     ]
    },
    {
     "cell_type": "markdown",
     "metadata": {},
     "source": [
      "<center>\n",
      "<h1 id=gpf>getplotlyfig.m</h1>\n",
      "</center>"
     ]
    },
    {
     "cell_type": "markdown",
     "metadata": {},
     "source": [
      "----\n",
      "<center>\n",
      "<h3>Get data, style, and layout from the plots stored online </h3>\n",
      "</center>\n",
      "\n",
      "---"
     ]
    },
    {
     "cell_type": "markdown",
     "metadata": {},
     "source": [
      "One of Plotly's secret powers is the ability to translate between MATLAB's structure/cell array syntax and JSON. This allows a smooth transition between the your figures in MATLAB and those stored in your Plotly account. In order to grab the data, style, and layout information from your plots living online, we've introduce a **<font color = red>\\*NEW\\*</font>** funtion into the API: **getplotlyfig.m**. In fact, we can go one step further: **getploylyfig.m** lets you grab the data, style and layout of *anyone's* Plotly plots (as long as they are made public) - not just your own! See a graph you like online? Grab the data, style and layout and make one for yourself.  \n",
      "<hr size =\"5px\">\n",
      "\n",
      "**[INPUT]:**\n",
      "\n",
      "plotlyfigure = getplotlyfig(file_owner,file_id)\n",
      "\n",
      "<br>\n",
      "\n",
      "**[WHERE]:**\n",
      "\n",
      "file_owner - user name associated with the plot [string].\n",
      "\n",
      "file_id - number identifier associated with the plot [string] \n",
      "\n",
      "<br>\n",
      "\n",
      "**[OUTPUT]:**\n",
      "\n",
      "plotlyfigure - results info of the plot [struct]\n",
      "plotlyfigure.[data,layout]\n",
      "<hr size =\"5px\">\n",
      "\n",
      "If the provided input arguments are valid, **getplotlyfig.m** returns a **figure** structure with **data** and **layout** fields. The data field is a cell array containing the exact same data, and style information as is required for the **plotly.m** function input. Likewise, the **layout** structure array contains all the layout information in the same form as is required for the **plotly.m** function input. "
     ]
    },
    {
     "cell_type": "heading",
     "level": 3,
     "metadata": {},
     "source": [
      "Example 3B: getplotlyfig.m"
     ]
    },
    {
     "cell_type": "markdown",
     "metadata": {},
     "source": [
      "Now that we have a basic understanding of **getplotlyfig.m**, let's have a go at changing the bar and line colours from our previous example!"
     ]
    },
    {
     "cell_type": "code",
     "collapsed": false,
     "input": [
      "%%matlab\n",
      "\n",
      "%%%%%%%%%%%%%%%%%%%%%%%%%%%%%%%\n",
      "%       GET PLOTLY FIG!       %\n",
      "%%%%%%%%%%%%%%%%%%%%%%%%%%%%%%%\n",
      "\n",
      "plotlyfigure = getplotlyfig('bronsolo','82'); \n",
      "\n",
      "\n",
      "%%%%%%%%%%%%%%%%%%%%%%%%%%%%%%% \n",
      "%         DATA/STYLE          %\n",
      "%%%%%%%%%%%%%%%%%%%%%%%%%%%%%%%\n",
      "\n",
      "% COLOUR CHOICES \n",
      "col1 = '#3C8A22';\n",
      "col2 = '#097054'; \n",
      "col3 = 'black'; \n",
      "\n",
      "% BAR CHART STYLE \n",
      "plotlyfigure.data{1}.marker.color = col1;\n",
      "plotlyfigure.data{1}.marker.line.width = 2; \n",
      "plotlyfigure.data{1}.marker.line.color = col3; \n",
      "plotlyfigure.data{1}.opacity = 0.7; \n",
      "plotlyfigure.data{1}.name = 'Cases'; \n",
      "\n",
      "% LINE STYLE \n",
      "plotlyfigure.data{2}.line.width = 10; \n",
      "plotlyfigure.data{2}.line.color = col2;  \n",
      "plotlyfigure.data{2}.opacity = 0.7; \n",
      "plotlyfigure.data{2}.name = 'Infection Rate'; \n",
      "\n",
      "\n",
      "%%%%%%%%%%%%%%%%%%%%%%%%%%%%%%% \n",
      "%           LAYOUT            %\n",
      "%%%%%%%%%%%%%%%%%%%%%%%%%%%%%%%\n",
      "\n",
      "% Y2 AXIS STYLE\n",
      "plotlyfigure.layout.yaxis2.titlefont.color = col3; \n",
      "plotlyfigure.layout.yaxis2.tickfont.color = col2;\n",
      "plotlyfigure.layout.yaxis2.tickcolor = col2; \n",
      "plotlyfigure.layout.yaxis2.linecolor = col2; \n",
      "plotlyfigure.layout.yaxis2.linewidth = 2; \n",
      "\n",
      "% X AXIS STYLE\n",
      "plotlyfigure.layout.xaxis.mirror = 0; \n",
      "plotlyfigure.layout.xaxis.showline = 0; \n",
      "\n",
      "% BAR LAYOUT\n",
      "plotlyfigure.layout.bargap = 0.2; \n",
      "\n",
      "%%%%%%%%%%%%%%%%%%%%%%%%%%%%%%% \n",
      "%             ARGS            %\n",
      "%%%%%%%%%%%%%%%%%%%%%%%%%%%%%%%\n",
      "\n",
      "args.layout = plotlyfigure.layout; \n",
      "args.filename = 'matlab_overview_5'; \n",
      "args.fileopt = 'new'; \n",
      "\n",
      "\n",
      "%%%%%%%%%%%%%%%%%%%%%%%%%%%%%%% \n",
      "%           PLOTLY            %\n",
      "%%%%%%%%%%%%%%%%%%%%%%%%%%%%%%%\n",
      "\n",
      "resp = plotly(plotlyfigure.data,args);\n",
      "url = resp.url"
     ],
     "language": "python",
     "metadata": {},
     "outputs": [
      {
       "metadata": {},
       "output_type": "display_data",
       "text": [
        "\n",
        "url =\n",
        "\n",
        "https://plot.ly/~matlab_user_guide/775\n",
        "\n"
       ]
      }
     ],
     "prompt_number": 40
    },
    {
     "cell_type": "code",
     "collapsed": false,
     "input": [
      "show_plot('https://plot.ly/~matlab_user_guide/665')"
     ],
     "language": "python",
     "metadata": {},
     "outputs": [
      {
       "html": [
        "<iframe height=\"550\" id=\"igraph\" scrolling=\"no\" frameborder = 0 seamless=\"seamless\" src=\"https://plot.ly/~matlab_user_guide/665/750/550\" width=\"750\"></iframe>"
       ],
       "metadata": {},
       "output_type": "pyout",
       "prompt_number": 18,
       "text": [
        "<IPython.core.display.HTML at 0x10eaf1cd0>"
       ]
      }
     ],
     "prompt_number": 18
    },
    {
     "cell_type": "markdown",
     "metadata": {},
     "source": [
      "Awesome! Note that we changed the names of the bar and line data so that when we scroll over the plot we get a nicely labeled interactive output. Give it a try!"
     ]
    },
    {
     "cell_type": "heading",
     "level": 3,
     "metadata": {},
     "source": [
      "Example 4: getplotlyfig.m"
     ]
    },
    {
     "cell_type": "markdown",
     "metadata": {},
     "source": [
      "As we mentioned above, not only does **getplotlyfig.m** help us edit the plots that we made using **fig2plotly.m**, it also allows us to grab the data, style, and layout information from any public Plotly plot (say that three time fast) regardless of the API used to generate them. That means we can grab plots generated in R or Python and throw them into MATLAB to analyze, restyle, and throw back online. It's all the same to Plotly! Let's have a look at how that works. First, check out this sweet plot made by a user named **\"ReadtheBox\"**. "
     ]
    },
    {
     "cell_type": "code",
     "collapsed": false,
     "input": [
      "show_plot('https://plot.ly/~ReadtheBox/35') "
     ],
     "language": "python",
     "metadata": {},
     "outputs": [
      {
       "html": [
        "<iframe height=\"550\" id=\"igraph\" scrolling=\"no\" frameborder = 0 seamless=\"seamless\" src=\"https://plot.ly/~ReadtheBox/35/750/550\" width=\"750\"></iframe>"
       ],
       "metadata": {},
       "output_type": "pyout",
       "prompt_number": 19,
       "text": [
        "<IPython.core.display.HTML at 0x10eaf1450>"
       ]
      }
     ],
     "prompt_number": 19
    },
    {
     "cell_type": "markdown",
     "metadata": {},
     "source": [
      "So sweet! Let's use **getplotlyfig.m** to grab the data/style and layout from this plot. "
     ]
    },
    {
     "cell_type": "code",
     "collapsed": false,
     "input": [
      "%%matlab\n",
      "\n",
      "plotlyfigure = getplotlyfig('ReadtheBox','35') %grab the data from ReadtheBox (awesome Plotly user!)"
     ],
     "language": "python",
     "metadata": {},
     "outputs": [
      {
       "metadata": {},
       "output_type": "display_data",
       "text": [
        "\n",
        "plotlyfigure = \n",
        "\n",
        "    layout: [1x1 struct]\n",
        "      data: {1x9 cell}\n",
        "\n"
       ]
      }
     ],
     "prompt_number": 71
    },
    {
     "cell_type": "markdown",
     "metadata": {},
     "source": [
      "Nice! Now let's have some fun changing things up. Let's have a look at the data field. "
     ]
    },
    {
     "cell_type": "code",
     "collapsed": false,
     "input": [
      "%%matlab \n",
      "\n",
      "plotlyfigure.data{1}"
     ],
     "language": "python",
     "metadata": {},
     "outputs": [
      {
       "metadata": {},
       "output_type": "display_data",
       "text": [
        "\n",
        "ans = \n",
        "\n",
        "    textfont: [1x1 struct]\n",
        "        name: 'Runs'\n",
        "      marker: [1x1 struct]\n",
        "           y: [12 14 9 2 8 5 6 1 1 8 2 4 0 0]\n",
        "           x: {1x14 cell}\n",
        "        line: [1x1 struct]\n",
        "        type: 'bar'\n",
        "     error_y: [1x1 struct]\n",
        "\n"
       ]
      }
     ],
     "prompt_number": 44
    },
    {
     "cell_type": "markdown",
     "metadata": {},
     "source": [
      "The data field is a {1x9} cell array where each element of the cell array corresponds to a different baseball statistic. The first data cell array element, **plotlyfigure.data{1}**, corresponds to the **\"Runs\"** data for each player. "
     ]
    },
    {
     "cell_type": "markdown",
     "metadata": {},
     "source": [
      "Now, lets say we only wanted to look at **\"Runs\"** and **\"Hits\"**. We can do that easily by grabbing the first two elements of the data cell array. "
     ]
    },
    {
     "cell_type": "code",
     "collapsed": false,
     "input": [
      "%%matlab \n",
      "\n",
      "%%%%%%%%%%%%%%%%%%%%%%%%%%%%%%% \n",
      "%         DATA/STYLE          %\n",
      "%%%%%%%%%%%%%%%%%%%%%%%%%%%%%%%\n",
      "\n",
      "traces= {plotlyfigure.data{1},plotlyfigure.data{2}}; % <--- FIRST TWO DATA ELEMENTS\n",
      "\n",
      "\n",
      "%%%%%%%%%%%%%%%%%%%%%%%%%%%%%%% \n",
      "%            ARGS             %\n",
      "%%%%%%%%%%%%%%%%%%%%%%%%%%%%%%%\n",
      "\n",
      "args.filename = 'matlab_overview_6'; \n",
      "args.fileopt = 'new';\n",
      "args.layout = plotlyfigure.layout; \n",
      "\n",
      "%%%%%%%%%%%%%%%%%%%%%%%%%%%%%%% \n",
      "%           PLOTLY            %\n",
      "%%%%%%%%%%%%%%%%%%%%%%%%%%%%%%%\n",
      "\n",
      "resp = plotly(traces,args); % <--- USE PLOTLY TO THROW OUR NEW PLOT ONLINE\n",
      "resp.url "
     ],
     "language": "python",
     "metadata": {},
     "outputs": [
      {
       "metadata": {},
       "output_type": "display_data",
       "text": [
        "\n",
        "ans =\n",
        "\n",
        "https://plot.ly/~matlab_user_guide/776\n",
        "\n"
       ]
      }
     ],
     "prompt_number": 45
    },
    {
     "cell_type": "markdown",
     "metadata": {},
     "source": [
      "Let's take a look: "
     ]
    },
    {
     "cell_type": "code",
     "collapsed": false,
     "input": [
      "show_plot('https://plot.ly/~matlab_user_guide/666')"
     ],
     "language": "python",
     "metadata": {},
     "outputs": [
      {
       "html": [
        "<iframe height=\"550\" id=\"igraph\" scrolling=\"no\" frameborder = 0 seamless=\"seamless\" src=\"https://plot.ly/~matlab_user_guide/666/750/550\" width=\"750\"></iframe>"
       ],
       "metadata": {},
       "output_type": "pyout",
       "prompt_number": 20,
       "text": [
        "<IPython.core.display.HTML at 0x10eaf1ed0>"
       ]
      }
     ],
     "prompt_number": 20
    },
    {
     "cell_type": "markdown",
     "metadata": {},
     "source": [
      "Awesome - Go Ellsbury!"
     ]
    },
    {
     "cell_type": "markdown",
     "metadata": {},
     "source": [
      "Now let's change some layout settings. How about we change the barmode from 'stack' to 'group'. "
     ]
    },
    {
     "cell_type": "code",
     "collapsed": false,
     "input": [
      "%%matlab \n",
      "\n",
      "%%%%%%%%%%%%%%%%%%%%%%%%%%%%%%% \n",
      "%         DATA/STYLE          %\n",
      "%%%%%%%%%%%%%%%%%%%%%%%%%%%%%%%\n",
      "\n",
      "traces= {plotlyfigure.data{1},plotlyfigure.data{2}}; % <--- FROM BEFORE! \n",
      "\n",
      "\n",
      "%%%%%%%%%%%%%%%%%%%%%%%%%%%%%%%\n",
      "%           LAYOUT            %\n",
      "%%%%%%%%%%%%%%%%%%%%%%%%%%%%%%%\n",
      "\n",
      "plotlyfigure.layout.barmode = 'group';  % <--- CHANGE FROM STACK TO GROUP! \n",
      "\n",
      "\n",
      "%%%%%%%%%%%%%%%%%%%%%%%%%%%%%%% \n",
      "%             ARGS            %\n",
      "%%%%%%%%%%%%%%%%%%%%%%%%%%%%%%%\n",
      "\n",
      "% ARGS STRUCTURE \n",
      "args.filename = 'matlab_overview_7'; \n",
      "args.fileopt = 'new';\n",
      "args.layout = plotlyfigure.layout; \n",
      "\n",
      "\n",
      "%%%%%%%%%%%%%%%%%%%%%%%%%%%%%%% \n",
      "%           PLOTLY            %\n",
      "%%%%%%%%%%%%%%%%%%%%%%%%%%%%%%%\n",
      "\n",
      "resp = plotly(traces,args); \n",
      "resp.url"
     ],
     "language": "python",
     "metadata": {},
     "outputs": [
      {
       "metadata": {},
       "output_type": "display_data",
       "text": [
        "\n",
        "ans =\n",
        "\n",
        "https://plot.ly/~matlab_user_guide/777\n",
        "\n"
       ]
      }
     ],
     "prompt_number": 47
    },
    {
     "cell_type": "code",
     "collapsed": false,
     "input": [
      "show_plot('https://plot.ly/~matlab_user_guide/669')"
     ],
     "language": "python",
     "metadata": {},
     "outputs": [
      {
       "html": [
        "<iframe height=\"550\" id=\"igraph\" scrolling=\"no\" frameborder = 0 seamless=\"seamless\" src=\"https://plot.ly/~matlab_user_guide/669/750/550\" width=\"750\"></iframe>"
       ],
       "metadata": {},
       "output_type": "pyout",
       "prompt_number": 21,
       "text": [
        "<IPython.core.display.HTML at 0x10eaf1a90>"
       ]
      }
     ],
     "prompt_number": 21
    },
    {
     "cell_type": "markdown",
     "metadata": {},
     "source": [
      "Cool!\n",
      "<br>\n",
      "<br>"
     ]
    },
    {
     "cell_type": "markdown",
     "metadata": {},
     "source": [
      "<font size = \"5\">But...</font> what happens if we want to put our graph in a report or thesis? So far all we have seen is how to share/embed our plots online. What we need now is to save our Plotly figures as images. For that we use the **<font color = red>\\*NEW\\*</font>** **saveplotlyfig.m** function... \n",
      "<br>\n",
      "<br>\n",
      "<br>"
     ]
    },
    {
     "cell_type": "markdown",
     "metadata": {},
     "source": [
      "<br>\n",
      "<center>\n",
      "<h1 id=\"spf\">saveplotlyfig.m</h1>\n",
      "</center>"
     ]
    },
    {
     "cell_type": "markdown",
     "metadata": {},
     "source": [
      "----\n",
      "<center>\n",
      "<h3>Save your MATLAB figure as an image using Plotly  </h3>\n",
      "</center>\n",
      "\n",
      "---"
     ]
    },
    {
     "cell_type": "markdown",
     "metadata": {},
     "source": [
      "**saveplotlyfig.m** allows you to convert your MATLAB figures into static images (.png, .svg, .pdf, .jpeg) using Plotly.\n",
      "\n",
      "<hr size = \"5px\">\n",
      "\n",
      "**[INPUT]:**\n",
      "\n",
      "saveplotlyfig(data, filename, format {otional}) \n",
      "\n",
      "saveplotlyfig(plotlyfigure, filename, format {optional}) \n",
      "\n",
      "\n",
      "**NOTE:** if format is unspecified, saveplotlyfig will use the image format given by the  extension of filename. If filename does not have an explicit extension (ex: filename.pdf), the default format of PNG will be used for the conversion. \n",
      "\n",
      "<br>\n",
      "\n",
      "**[WHERE]:**\n",
      "\n",
      "data - data/style of plot [cell array]\n",
      "\n",
      "plotlyfigure.data - data/style of plot [cell array]\n",
      "\n",
      "plotlyfigure.layout - layout of plot [struct]  \n",
      "\n",
      "filename - name of image to be saved [string] \n",
      "\n",
      "\n",
      "<br>\n",
      "\n",
      "**[OUTPUT]:**\n",
      "\n",
      "Image 'filename' of the specified format (PNG, PDF, JPEG, or SVG) saved to your working directory. \n",
      "\n",
      "<hr size = \"5px\">"
     ]
    },
    {
     "cell_type": "heading",
     "level": 3,
     "metadata": {},
     "source": [
      "EXAMPLE 5: saveplotlyfig.m"
     ]
    },
    {
     "cell_type": "markdown",
     "metadata": {},
     "source": [
      "Let's have a look at **saveplotlyfig.m** to see how it works. Check out this next plot that was featured on the MATLAB plot gallery.  "
     ]
    },
    {
     "cell_type": "code",
     "collapsed": false,
     "input": [
      "%%matlab \n",
      "\n",
      "%%%%%%%%%%%%%%%%%%%%%%%%%%%%%%%%%%%%%%%%%%%%%%%%%%%%\n",
      "%            FROM MATLAB PLOT GALLERY              %\n",
      "%  http://www.mathworks.com/discovery/gallery.html %\n",
      "%%%%%%%%%%%%%%%%%%%%%%%%%%%%%%%%%%%%%%%%%%%%%%%%%%%%\n",
      "\n",
      "% Load Morse data\n",
      "load MDdata dissimilarities dist1 dist2 dist3\n",
      "\n",
      "% Plot the first set of data in blue\n",
      "fig = figure;\n",
      "plot(dissimilarities, dist1, 'bo');\n",
      "hold on;\n",
      "\n",
      "% Plot the second set of data in red\n",
      "plot(dissimilarities, dist2, 'r+');\n",
      "\n",
      "% Plot the third set of data in green\n",
      "plot(dissimilarities, dist3, 'g^');\n",
      "\n",
      "% Add title and axis labels\n",
      "title('Morse Signal Analysis');\n",
      "xlabel('Dissimilarities');\n",
      "ylabel('Distances');\n",
      "\n",
      "\n",
      "%%%%%%%%%%%%%%%%%%%%%%%%%%%%%%%\n",
      "%            PLOTLY           %\n",
      "%%%%%%%%%%%%%%%%%%%%%%%%%%%%%%%\n",
      "\n",
      "filename = 'matlab_overview_8'; \n",
      "resp = fig2plotly(fig,'name',filename);\n"
     ],
     "language": "python",
     "metadata": {},
     "outputs": [
      {
       "metadata": {},
       "output_type": "display_data",
       "png": "[encoded data removed]"
      }
     ],
     "prompt_number": 65
    },
    {
     "cell_type": "code",
     "collapsed": false,
     "input": [
      "%%matlab \n",
      "\n",
      "resp.url "
     ],
     "language": "python",
     "metadata": {},
     "outputs": [
      {
       "metadata": {},
       "output_type": "display_data",
       "text": [
        "\n",
        "ans =\n",
        "\n",
        "https://plot.ly/~matlab_user_guide/670\n",
        "\n"
       ]
      }
     ],
     "prompt_number": 66
    },
    {
     "cell_type": "markdown",
     "metadata": {},
     "source": [
      "Good job MATLAB - let's look at the Plotly graph we created! "
     ]
    },
    {
     "cell_type": "code",
     "collapsed": false,
     "input": [
      "show_plot('https://plot.ly/~matlab_user_guide/670')"
     ],
     "language": "python",
     "metadata": {},
     "outputs": [
      {
       "html": [
        "<iframe height=\"550\" id=\"igraph\" scrolling=\"no\" frameborder = 0 seamless=\"seamless\" src=\"https://plot.ly/~matlab_user_guide/670/750/550\" width=\"750\"></iframe>"
       ],
       "metadata": {},
       "output_type": "pyout",
       "prompt_number": 22,
       "text": [
        "<IPython.core.display.HTML at 0x10eaf1f10>"
       ]
      }
     ],
     "prompt_number": 22
    },
    {
     "cell_type": "markdown",
     "metadata": {},
     "source": [
      "<br>\n",
      "So awesome! Now let's save this plot as a PNG image using **saveplotlyfig.m**. "
     ]
    },
    {
     "cell_type": "code",
     "collapsed": false,
     "input": [
      "%%matlab \n",
      "\n",
      "%%%%%%%%%%%%%%%%%%%%%%%%%%%%%%%\n",
      "%       GET PLOTLY FIG!       %\n",
      "%%%%%%%%%%%%%%%%%%%%%%%%%%%%%%%\n",
      "\n",
      "plotlyfigure = getplotlyfig('matlab_user_guide','670'); \n",
      "\n",
      "%%%%%%%%%%%%%%%%%%%%%%%%%%%%%%%\n",
      "%      SAVE PLOTLY FIG!       %\n",
      "%%%%%%%%%%%%%%%%%%%%%%%%%%%%%%%\n",
      "\n",
      "filename = 'morse.png'; \n",
      "\n",
      "saveplotlyfig(plotlyfigure,filename)"
     ],
     "language": "python",
     "metadata": {},
     "outputs": [],
     "prompt_number": 68
    },
    {
     "cell_type": "markdown",
     "metadata": {},
     "source": [
      "<br>\n",
      "Boom! **morse.png** has been automatically saved to our working directory. Let's have a look. "
     ]
    },
    {
     "cell_type": "markdown",
     "metadata": {},
     "source": [
      "<center>\n",
      "<img src=\"https://raw.githubusercontent.com/plotly/MATLAB-User-Guide/master/images/morse.png\" style=\"width: 700px; height: 550px; margin-left: auto;margin-right: auto\"; alt=\"\">\n",
      "</center> "
     ]
    },
    {
     "cell_type": "markdown",
     "metadata": {},
     "source": [
      "Awesome! Do you notice how the above plot is no longer interactive? That's because it is a static PNG image, ready to be placed in your offline documents.\n",
      "\n",
      "Plotly graphics are rendered as high-quality vector graphics so they embed really well in presentations and reports.\n",
      "\n",
      "Take a look for yourself. Here are the static image versions of the following plot.\n",
      "\n",
      "- [Click to download the PDF version](files/images/PlotlyImageTest_18.pdf)\n",
      "- [Click to view the PNG version](files/images/PlotlyImageTest_18.png)\n",
      "- [Click to view the JPEG version](files/images/PlotlyImageTest_18.jpeg)\n",
      "- [Click to view the SVG version](files/images/PlotlyImageTest_18.svg)\n"
     ]
    },
    {
     "cell_type": "code",
     "collapsed": false,
     "input": [
      "show_plot('https://plot.ly/~chris/1638/')"
     ],
     "language": "python",
     "metadata": {},
     "outputs": [
      {
       "html": [
        "<iframe height=\"550\" id=\"igraph\" scrolling=\"no\" frameborder = 0 seamless=\"seamless\" src=\"https://plot.ly/~chris/1638//750/550\" width=\"750\"></iframe>"
       ],
       "metadata": {},
       "output_type": "pyout",
       "prompt_number": 23,
       "text": [
        "<IPython.core.display.HTML at 0x10eaf1d50>"
       ]
      }
     ],
     "prompt_number": 23
    },
    {
     "cell_type": "markdown",
     "metadata": {},
     "source": [
      "<h3>Example 6: saveplotlyfig.m</h3>"
     ]
    },
    {
     "cell_type": "markdown",
     "metadata": {},
     "source": [
      "As a final example, let's grab a public plot from another Plotly user. This one is an awesome line plot from our very own **jackp**.  "
     ]
    },
    {
     "cell_type": "code",
     "collapsed": false,
     "input": [
      "show_plot('https://plot.ly/~jackp/671')"
     ],
     "language": "python",
     "metadata": {},
     "outputs": [
      {
       "html": [
        "<iframe height=\"550\" id=\"igraph\" scrolling=\"no\" frameborder = 0 seamless=\"seamless\" src=\"https://plot.ly/~jackp/671/750/550\" width=\"750\"></iframe>"
       ],
       "metadata": {},
       "output_type": "pyout",
       "prompt_number": 24,
       "text": [
        "<IPython.core.display.HTML at 0x10eaf1d10>"
       ]
      }
     ],
     "prompt_number": 24
    },
    {
     "cell_type": "markdown",
     "metadata": {},
     "source": [
      "<br>\n",
      "First grab the data/style and layout.  "
     ]
    },
    {
     "cell_type": "code",
     "collapsed": false,
     "input": [
      "%%matlab \n",
      "\n",
      "plotlyfig = getplotlyfig('jackp','671')"
     ],
     "language": "python",
     "metadata": {},
     "outputs": [
      {
       "metadata": {},
       "output_type": "display_data",
       "text": [
        "\n",
        "plotlyfig = \n",
        "\n",
        "    layout: [1x1 struct]\n",
        "      data: {1x11 cell}\n",
        "\n"
       ]
      }
     ],
     "prompt_number": 55
    },
    {
     "cell_type": "markdown",
     "metadata": {},
     "source": [
      "Now feed the data/style and layout information into **saveplotlyfig.m**."
     ]
    },
    {
     "cell_type": "code",
     "collapsed": false,
     "input": [
      "%%matlab\n",
      "filename = 'tax.png'; \n",
      "saveplotlyfig(plotlyfig,filename); "
     ],
     "language": "python",
     "metadata": {},
     "outputs": [],
     "prompt_number": 73
    },
    {
     "cell_type": "markdown",
     "metadata": {},
     "source": [
      "<br>\n",
      "Cool! Let's have a look at the image. "
     ]
    },
    {
     "cell_type": "markdown",
     "metadata": {},
     "source": [
      "<center>\n",
      "<img src=\"https://raw.githubusercontent.com/plotly/MATLAB-User-Guide/master/images/tax.png\" style=\"width: 700px; height: 550px; margin-left: auto;margin-right: auto\"; alt=\"\">\n",
      "</center> "
     ]
    },
    {
     "cell_type": "markdown",
     "metadata": {},
     "source": [
      "<br>\n",
      "All we have to do now is throw it into our economics report! "
     ]
    },
    {
     "cell_type": "heading",
     "level": 1,
     "metadata": {},
     "source": [
      "<span id=\"contacts\">CONTACT</span>"
     ]
    },
    {
     "cell_type": "markdown",
     "metadata": {},
     "source": [
      "Want to help improve this notebook? Please send us your comments/questions! Feedback concerning this notebook can be directed to <font color=#1d3b84>** chuck@plot.ly **"
     ]
    },
    {
     "cell_type": "code",
     "collapsed": false,
     "input": [
      "# CSS styling within IPython notebook\n",
      "from IPython.display import display, HTML\n",
      "display(HTML(open('./css/custom.css').read()))"
     ],
     "language": "python",
     "metadata": {},
     "outputs": [
      {
       "html": [
        "<style>\n",
        "    div.cell{\n",
        "        width: 850px;\n",
        "        margin-left: 10% !important;\n",
        "        margin-right: auto;\n",
        "    }\n",
        "    h1 {\n",
        "        font-family: \"Open sans\",verdana,arial,sans-serif;\n",
        "    }\n",
        "    .text_cell_render h1 {\n",
        "        font-weight: 200;\n",
        "        font-size: 40pt;\n",
        "        line-height: 100%;\n",
        "        color:#447adb;\n",
        "        margin-bottom: 0em;\n",
        "        margin-top: 0em;\n",
        "        display: block;\n",
        "        white-space: nowrap;\n",
        "    } \n",
        "    h2 {\n",
        "        font-family: \"Open sans\",verdana,arial,sans-serif;\n",
        "        text-indent:1em;\n",
        "    }\n",
        "    .text_cell_render h2 {\n",
        "        font-weight: 200;\n",
        "        font-size: 20pt;\n",
        "        font-style: italic;\n",
        "        line-height: 100%;\n",
        "        color:#447adb;\n",
        "        margin-bottom: 1.5em;\n",
        "        margin-top: 0.5em;\n",
        "        display: block;\n",
        "        white-space: nowrap;\n",
        "    } \n",
        "    h3 {\n",
        "        font-family: \"Open sans\",verdana,arial,sans-serif;\n",
        "    }\n",
        "    .text_cell_render h3 {\n",
        "        font-weight: 300;\n",
        "        font-size: 18pt;\n",
        "        line-height: 100%;\n",
        "        color:#447adb;\n",
        "        margin-bottom: 0.5em;\n",
        "        margin-top: 2em;\n",
        "        display: block;\n",
        "        white-space: nowrap;\n",
        "    }\n",
        "    h4 {\n",
        "        font-family: \"Open sans\",verdana,arial,sans-serif;\n",
        "    }\n",
        "    .text_cell_render h4 {\n",
        "        font-weight: 300;\n",
        "        font-size: 16pt;\n",
        "        color:#447adb;\n",
        "        margin-bottom: 0.5em;\n",
        "        margin-top: 0.5em;\n",
        "        display: block;\n",
        "        white-space: nowrap;\n",
        "    }\n",
        "    h5 {\n",
        "        font-family: \"Open sans\",verdana,arial,sans-serif;\n",
        "    }\n",
        "    .text_cell_render h5 {\n",
        "        font-weight: 300;\n",
        "        font-style: normal;\n",
        "        color: #1d3b84;\n",
        "        font-size: 16pt;\n",
        "        margin-bottom: 0em;\n",
        "        margin-top: 1.5em;\n",
        "        display: block;\n",
        "        white-space: nowrap;\n",
        "    }\n",
        "    div.text_cell_render{\n",
        "        font-family: \"Open sans\",verdana,arial,sans-serif;\n",
        "        line-height: 135%;\n",
        "        font-size: 125%;\n",
        "        width:750px;\n",
        "        margin-left:auto;\n",
        "        margin-right:auto;\n",
        "        text-align:justify;\n",
        "        text-justify:inter-word;\n",
        "    }\n",
        "    div.output_subarea.output_text.output_pyout {\n",
        "        overflow-x: auto;\n",
        "        overflow-y: scroll;\n",
        "        max-height: 300px;\n",
        "    }\n",
        "    div.output_subarea.output_stream.output_stdout.output_text {\n",
        "        overflow-x: auto;\n",
        "        overflow-y: scroll;\n",
        "        max-height: 300px;\n",
        "    }\n",
        "    div.output_subarea.output_html.rendered_html {\n",
        "        overflow-x: scroll;\n",
        "        max-width: 100%;\n",
        "      /*  overflow-y: scroll; */\n",
        "      /*  max-height: 300px;   */\n",
        "    }\n",
        "    code{\n",
        "      font-size: 78%;\n",
        "    }\n",
        "    .rendered_html code{\n",
        "        background-color: transparent;\n",
        "        white-space: inherit;   \n",
        "    }\n",
        "    ul{\n",
        "        /* color:#447adb; */  \n",
        "        margin: 2em;\n",
        "    }\n",
        "    ul li{\n",
        "        padding-left: 0.5em; \n",
        "        margin-bottom: 0.5em; \n",
        "        margin-top: 0.5em; \n",
        "    }\n",
        "    ul li li{\n",
        "        padding-left: 0.2em; \n",
        "        margin-bottom: 0.2em; \n",
        "        margin-top: 0.2em; \n",
        "    }\n",
        "    ol{\n",
        "        /* color:#447adb; */  \n",
        "        margin: 2em;\n",
        "    }\n",
        "    ol li{\n",
        "        padding-left: 0.5em; \n",
        "        margin-bottom: 0.5em; \n",
        "        margin-top: 0.5em; \n",
        "    }\n",
        "    /*.prompt{\n",
        "        display: None;\n",
        "    } */\n",
        "    ul li{\n",
        "        padding-left: 0.5em; \n",
        "        margin-bottom: 0.5em; \n",
        "        margin-top: 0.2em; \n",
        "    }\n",
        "    a:link{\n",
        "       font-weight: bold;\n",
        "       color:#447adb;\n",
        "    }\n",
        "    a:visited{\n",
        "       font-weight: bold;\n",
        "       color: #1d3b84;\n",
        "    }\n",
        "    a:hover{\n",
        "       font-weight: bold;\n",
        "       color: #1d3b84;\n",
        "    }\n",
        "    a:focus{\n",
        "       font-weight: bold;\n",
        "       color:#447adb;\n",
        "    }\n",
        "    a:active{\n",
        "       font-weight: bold;\n",
        "       color:#447adb;\n",
        "    }\n",
        "    .rendered_html :link {\n",
        "       text-decoration: none; \n",
        "    }\n",
        "    .rendered_html :hover {\n",
        "       text-decoration: none; \n",
        "    }\n",
        "    .rendered_html :visited {\n",
        "      text-decoration: none;\n",
        "    }\n",
        "    .rendered_html :focus {\n",
        "      text-decoration: none;\n",
        "    }\n",
        "    .rendered_html :active {\n",
        "      text-decoration: none;\n",
        "    }\n",
        "    .warning{\n",
        "        color: rgb( 240, 20, 20 )\n",
        "    } \n",
        "    hr {\n",
        "      color: #f3f3f3;\n",
        "      background-color: #f3f3f3;\n",
        "      height: 1px;\n",
        "    }\n",
        "    blockquote{\n",
        "      display:block;\n",
        "      background: #f3f3f3;\n",
        "      font-family: \"Open sans\",verdana,arial,sans-serif;\n",
        "      width:610px;\n",
        "      padding: 15px 15px 15px 15px;\n",
        "      text-align:justify;\n",
        "      text-justify:inter-word;\n",
        "      }\n",
        "      blockquote p {\n",
        "        margin-bottom: 0;\n",
        "        line-height: 125%;\n",
        "        font-size: 100%;\n",
        "        text-align: center;\n",
        "      }\n",
        "   /* element.style {\n",
        "    } */  \n",
        "</style>\n",
        "<script>\n",
        "    MathJax.Hub.Config({\n",
        "                        TeX: {\n",
        "                           extensions: [\"AMSmath.js\"]\n",
        "                           },\n",
        "                tex2jax: {\n",
        "                    inlineMath: [ [\"$\",\"$\"], [\"\\\\(\",\"\\\\)\"] ],\n",
        "                    displayMath: [ [\"$$\",\"$$\"], [\"\\\\[\",\"\\\\]\"] ]\n",
        "                },\n",
        "                displayAlign: \"center\", // Change this to \"center\" to center equations.\n",
        "                \"HTML-CSS\": {\n",
        "                    styles: {\".MathJax_Display\": {\"margin\": 4}}\n",
        "                }\n",
        "        });\n",
        "</script>"
       ],
       "metadata": {},
       "output_type": "display_data",
       "text": [
        "<IPython.core.display.HTML at 0x10c4a5bd0>"
       ]
      }
     ],
     "prompt_number": 5
    },
    {
     "cell_type": "markdown",
     "metadata": {},
     "source": [
      "<center><sup>[<a href = \"http://camdavidsonpilon.github.io/Probabilistic-Programming-and-Bayesian-Methods-for-Hackers/\" class=\"nounderline\">STYLE INSPIRED BY CAM DAVIDSON'S NB'S - THANK YOU</a>]</sup></center>"
     ]
    }
   ],
   "metadata": {}
  }
 ]
}